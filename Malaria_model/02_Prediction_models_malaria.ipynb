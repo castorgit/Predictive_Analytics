{
 "cells": [
  {
   "cell_type": "markdown",
   "id": "fe1f14e3",
   "metadata": {},
   "source": [
    "### Malaria prediction models\n",
    "\n",
    "**Description:** Testing several models on a Malaria Dataset<br>\n",
    "**Dataset:** https://www.nature.com/articles/s41598-020-72575-6<br>\n",
    "**Author:** Jaume Manero"
   ]
  },
  {
   "cell_type": "code",
   "execution_count": 1,
   "id": "b03bbb3e",
   "metadata": {},
   "outputs": [],
   "source": [
    "#%matplotlib notebook\n",
    "import pandas as pd\n",
    "import numpy as np\n",
    "import matplotlib.pyplot as plt\n",
    "import matplotlib.ticker as ticker\n",
    "from mpl_toolkits.mplot3d import Axes3D\n",
    "import matplotlib.dates as mdates\n",
    "import statsmodels.api as sm\n",
    "from sklearn.linear_model import LinearRegression\n",
    "from sklearn.metrics import mean_squared_error,r2_score\n",
    "from sklearn import model_selection\n",
    "from sklearn.ensemble import RandomForestRegressor\n",
    "\n",
    "#https://www.nature.com/articles/s41598-020-72575-6"
   ]
  },
  {
   "cell_type": "code",
   "execution_count": 2,
   "id": "b0919723",
   "metadata": {},
   "outputs": [],
   "source": [
    "df_train = pd.read_excel('./data/ibadan_malaria-prevalence_dataset_1996-2017.xlsx',sheet_name='vars-preP_train')\n",
    "df_val = pd.read_excel('./data/ibadan_malaria-prevalence_dataset_1996-2017.xlsx',sheet_name='vars-preP_val')"
   ]
  },
  {
   "cell_type": "code",
   "execution_count": 3,
   "id": "8139c972",
   "metadata": {},
   "outputs": [],
   "source": [
    "# Results Visualization\n",
    "\n",
    "def result_visualization(y_truth, y_hat, title):\n",
    "\n",
    "   years_label = ['2015', '2016', '2017']\n",
    "   months_label = ['jan','feb','mar','abr','may','jun','jul','ago','sep','oct','nov','dec']\n",
    "   tiks_x = np.arange(len(months_label))\n",
    "   tiks_y = np.arange(len(years_label))\n",
    "\n",
    "   arr_a = y_truth\n",
    "   arr_b = y_hat\n",
    "\n",
    "   # Validation figure\n",
    "   fig, (ax1, ax2) = plt.subplots(1,2, figsize=(16,8))\n",
    "\n",
    "   min_val = min(arr_a.min(), arr_b.min())\n",
    "   max_val = max(arr_a.max(), arr_b.max())\n",
    "   \n",
    "   im_left  = ax1.imshow(y_truth, cmap='YlOrRd', interpolation='nearest', vmin=min_val, vmax=max_val)\n",
    "   im_right = ax2.imshow(y_hat, cmap='YlOrRd', interpolation='nearest', vmin=min_val, vmax=max_val)\n",
    "\n",
    "    \n",
    "   N=5\n",
    "   ax1.set_xticks(tiks_x, minor=False)\n",
    "   ax1.set_xticklabels(months_label)\n",
    "   ax1.set_yticks(tiks_y, minor=False)\n",
    "   ax1.set_yticklabels(years_label)\n",
    "   ax1.set_title('Ground Truth')\n",
    "\n",
    "   ax2.set_xticks(tiks_x, minor=False)\n",
    "   ax2.set_xticklabels(months_label)\n",
    "   ax2.set_yticks(tiks_y, minor=False)\n",
    "   ax2.set_yticklabels(years_label)\n",
    "   ax2.set_title('Prediction')\n",
    "   plt.suptitle(title, y=0.7, size = 20)\n",
    "\n",
    "#   plt.colorbar(im_right)\n",
    "   plt.show()"
   ]
  },
  {
   "cell_type": "code",
   "execution_count": 4,
   "id": "0e611cb8",
   "metadata": {},
   "outputs": [
    {
     "data": {
      "text/html": [
       "<table class=\"simpletable\">\n",
       "<caption>OLS Regression Results</caption>\n",
       "<tr>\n",
       "  <th>Dep. Variable:</th>          <td>preP</td>       <th>  R-squared (uncentered):</th>      <td>   0.848</td>\n",
       "</tr>\n",
       "<tr>\n",
       "  <th>Model:</th>                   <td>OLS</td>       <th>  Adj. R-squared (uncentered):</th> <td>   0.838</td>\n",
       "</tr>\n",
       "<tr>\n",
       "  <th>Method:</th>             <td>Least Squares</td>  <th>  F-statistic:       </th>          <td>   84.99</td>\n",
       "</tr>\n",
       "<tr>\n",
       "  <th>Date:</th>             <td>Mon, 11 Apr 2022</td> <th>  Prob (F-statistic):</th>          <td>3.69e-79</td>\n",
       "</tr>\n",
       "<tr>\n",
       "  <th>Time:</th>                 <td>16:27:05</td>     <th>  Log-Likelihood:    </th>          <td>  195.21</td>\n",
       "</tr>\n",
       "<tr>\n",
       "  <th>No. Observations:</th>      <td>   228</td>      <th>  AIC:               </th>          <td>  -362.4</td>\n",
       "</tr>\n",
       "<tr>\n",
       "  <th>Df Residuals:</th>          <td>   214</td>      <th>  BIC:               </th>          <td>  -314.4</td>\n",
       "</tr>\n",
       "<tr>\n",
       "  <th>Df Model:</th>              <td>    14</td>      <th>                     </th>              <td> </td>   \n",
       "</tr>\n",
       "<tr>\n",
       "  <th>Covariance Type:</th>      <td>nonrobust</td>    <th>                     </th>              <td> </td>   \n",
       "</tr>\n",
       "</table>\n",
       "<table class=\"simpletable\">\n",
       "<tr>\n",
       "       <td></td>          <th>coef</th>     <th>std err</th>      <th>t</th>      <th>P>|t|</th>  <th>[0.025</th>    <th>0.975]</th>  \n",
       "</tr>\n",
       "<tr>\n",
       "  <th>year</th>        <td>    0.0005</td> <td> 9.73e-05</td> <td>    5.603</td> <td> 0.000</td> <td>    0.000</td> <td>    0.001</td>\n",
       "</tr>\n",
       "<tr>\n",
       "  <th>month</th>       <td>    0.0029</td> <td>    0.002</td> <td>    1.281</td> <td> 0.202</td> <td>   -0.002</td> <td>    0.007</td>\n",
       "</tr>\n",
       "<tr>\n",
       "  <th>nchildren</th>   <td>   -0.0003</td> <td> 4.67e-05</td> <td>   -7.370</td> <td> 0.000</td> <td>   -0.000</td> <td>   -0.000</td>\n",
       "</tr>\n",
       "<tr>\n",
       "  <th>m-age-neg</th>   <td>    0.0015</td> <td>    0.001</td> <td>    1.440</td> <td> 0.151</td> <td>   -0.001</td> <td>    0.004</td>\n",
       "</tr>\n",
       "<tr>\n",
       "  <th>m-age-pos</th>   <td>   -0.0015</td> <td>    0.001</td> <td>   -1.381</td> <td> 0.169</td> <td>   -0.004</td> <td>    0.001</td>\n",
       "</tr>\n",
       "<tr>\n",
       "  <th>iqr-age-neg</th> <td>    0.0002</td> <td>    0.001</td> <td>    0.252</td> <td> 0.801</td> <td>   -0.002</td> <td>    0.002</td>\n",
       "</tr>\n",
       "<tr>\n",
       "  <th>iqr-age-pos</th> <td> 2.797e-05</td> <td>    0.001</td> <td>    0.050</td> <td> 0.960</td> <td>   -0.001</td> <td>    0.001</td>\n",
       "</tr>\n",
       "<tr>\n",
       "  <th>x-pd</th>        <td>-1.064e-06</td> <td> 9.78e-07</td> <td>   -1.088</td> <td> 0.278</td> <td>-2.99e-06</td> <td> 8.64e-07</td>\n",
       "</tr>\n",
       "<tr>\n",
       "  <th>sd-pd</th>       <td> 6.221e-07</td> <td> 7.89e-07</td> <td>    0.789</td> <td> 0.431</td> <td>-9.32e-07</td> <td> 2.18e-06</td>\n",
       "</tr>\n",
       "<tr>\n",
       "  <th>mm-rf</th>       <td>   -0.0005</td> <td>    0.000</td> <td>   -1.669</td> <td> 0.097</td> <td>   -0.001</td> <td> 8.67e-05</td>\n",
       "</tr>\n",
       "<tr>\n",
       "  <th>mmP-rf</th>      <td>    0.7507</td> <td>    0.392</td> <td>    1.916</td> <td> 0.057</td> <td>   -0.022</td> <td>    1.523</td>\n",
       "</tr>\n",
       "<tr>\n",
       "  <th>min-temp</th>    <td>   -0.0107</td> <td>    0.006</td> <td>   -1.716</td> <td> 0.088</td> <td>   -0.023</td> <td>    0.002</td>\n",
       "</tr>\n",
       "<tr>\n",
       "  <th>max-temp</th>    <td>   -0.0242</td> <td>    0.007</td> <td>   -3.519</td> <td> 0.001</td> <td>   -0.038</td> <td>   -0.011</td>\n",
       "</tr>\n",
       "<tr>\n",
       "  <th>x-temp</th>      <td>    0.0089</td> <td>    0.012</td> <td>    0.772</td> <td> 0.441</td> <td>   -0.014</td> <td>    0.032</td>\n",
       "</tr>\n",
       "</table>\n",
       "<table class=\"simpletable\">\n",
       "<tr>\n",
       "  <th>Omnibus:</th>       <td>27.748</td> <th>  Durbin-Watson:     </th> <td>   0.974</td>\n",
       "</tr>\n",
       "<tr>\n",
       "  <th>Prob(Omnibus):</th> <td> 0.000</td> <th>  Jarque-Bera (JB):  </th> <td>  36.325</td>\n",
       "</tr>\n",
       "<tr>\n",
       "  <th>Skew:</th>          <td> 0.803</td> <th>  Prob(JB):          </th> <td>1.29e-08</td>\n",
       "</tr>\n",
       "<tr>\n",
       "  <th>Kurtosis:</th>      <td> 4.116</td> <th>  Cond. No.          </th> <td>2.81e+06</td>\n",
       "</tr>\n",
       "</table><br/><br/>Notes:<br/>[1] R² is computed without centering (uncentered) since the model does not contain a constant.<br/>[2] Standard Errors assume that the covariance matrix of the errors is correctly specified.<br/>[3] The condition number is large, 2.81e+06. This might indicate that there are<br/>strong multicollinearity or other numerical problems."
      ],
      "text/plain": [
       "<class 'statsmodels.iolib.summary.Summary'>\n",
       "\"\"\"\n",
       "                                 OLS Regression Results                                \n",
       "=======================================================================================\n",
       "Dep. Variable:                   preP   R-squared (uncentered):                   0.848\n",
       "Model:                            OLS   Adj. R-squared (uncentered):              0.838\n",
       "Method:                 Least Squares   F-statistic:                              84.99\n",
       "Date:                Mon, 11 Apr 2022   Prob (F-statistic):                    3.69e-79\n",
       "Time:                        16:27:05   Log-Likelihood:                          195.21\n",
       "No. Observations:                 228   AIC:                                     -362.4\n",
       "Df Residuals:                     214   BIC:                                     -314.4\n",
       "Df Model:                          14                                                  \n",
       "Covariance Type:            nonrobust                                                  \n",
       "===============================================================================\n",
       "                  coef    std err          t      P>|t|      [0.025      0.975]\n",
       "-------------------------------------------------------------------------------\n",
       "year            0.0005   9.73e-05      5.603      0.000       0.000       0.001\n",
       "month           0.0029      0.002      1.281      0.202      -0.002       0.007\n",
       "nchildren      -0.0003   4.67e-05     -7.370      0.000      -0.000      -0.000\n",
       "m-age-neg       0.0015      0.001      1.440      0.151      -0.001       0.004\n",
       "m-age-pos      -0.0015      0.001     -1.381      0.169      -0.004       0.001\n",
       "iqr-age-neg     0.0002      0.001      0.252      0.801      -0.002       0.002\n",
       "iqr-age-pos  2.797e-05      0.001      0.050      0.960      -0.001       0.001\n",
       "x-pd        -1.064e-06   9.78e-07     -1.088      0.278   -2.99e-06    8.64e-07\n",
       "sd-pd        6.221e-07   7.89e-07      0.789      0.431   -9.32e-07    2.18e-06\n",
       "mm-rf          -0.0005      0.000     -1.669      0.097      -0.001    8.67e-05\n",
       "mmP-rf          0.7507      0.392      1.916      0.057      -0.022       1.523\n",
       "min-temp       -0.0107      0.006     -1.716      0.088      -0.023       0.002\n",
       "max-temp       -0.0242      0.007     -3.519      0.001      -0.038      -0.011\n",
       "x-temp          0.0089      0.012      0.772      0.441      -0.014       0.032\n",
       "==============================================================================\n",
       "Omnibus:                       27.748   Durbin-Watson:                   0.974\n",
       "Prob(Omnibus):                  0.000   Jarque-Bera (JB):               36.325\n",
       "Skew:                           0.803   Prob(JB):                     1.29e-08\n",
       "Kurtosis:                       4.116   Cond. No.                     2.81e+06\n",
       "==============================================================================\n",
       "\n",
       "Notes:\n",
       "[1] R² is computed without centering (uncentered) since the model does not contain a constant.\n",
       "[2] Standard Errors assume that the covariance matrix of the errors is correctly specified.\n",
       "[3] The condition number is large, 2.81e+06. This might indicate that there are\n",
       "strong multicollinearity or other numerical problems.\n",
       "\"\"\""
      ]
     },
     "execution_count": 4,
     "metadata": {},
     "output_type": "execute_result"
    }
   ],
   "source": [
    "\n",
    "\n",
    "# Linear Regression\n",
    "cols = ['year', 'month', 'nchildren', 'm-age-neg', 'm-age-pos', 'iqr-age-neg',\n",
    "       'iqr-age-pos', 'x-pd', 'sd-pd', 'mm-rf', 'mmP-rf', 'min-temp',\n",
    "       'max-temp', 'x-temp']\n",
    "\n",
    "X = df_train[cols]\n",
    "y = df_train['preP']\n",
    "\n",
    "model = sm.OLS(y, X).fit()\n",
    "predictions = model.predict(X)\n",
    "\n",
    "X_val = df_val[cols]\n",
    "y_val = df_val['preP']\n",
    "y_val_hat  = model.predict(X_val)\n",
    "\n",
    "model.summary()\n",
    "\n"
   ]
  },
  {
   "cell_type": "code",
   "execution_count": 5,
   "id": "5f751de3",
   "metadata": {},
   "outputs": [
    {
     "name": "stdout",
     "output_type": "stream",
     "text": [
      "R^2: -0.010 (0.003)\n"
     ]
    }
   ],
   "source": [
    "\n",
    "names = ['CRIM', 'ZN', 'INDUS', 'CHAS', 'NOX', 'RM', 'AGE', 'DIS', 'RAD', 'TAX', \n",
    "         'PTRATIO', 'B', 'LSTAT', 'MEDV']\n",
    "\n",
    "kfold = model_selection.KFold(n_splits=10, random_state=7, shuffle=True)\n",
    "model = LinearRegression()\n",
    "scoring = 'r2'\n",
    "scoring = 'neg_mean_squared_error'\n",
    "results = model_selection.cross_val_score(model, X, y, cv=kfold, scoring=scoring)\n",
    "print(\"R^2: %.3f (%.3f)\" % (results.mean(), results.std()))"
   ]
  },
  {
   "cell_type": "code",
   "execution_count": 6,
   "id": "e152f5f3",
   "metadata": {},
   "outputs": [
    {
     "name": "stdout",
     "output_type": "stream",
     "text": [
      "MSE 0.005026592146941133\n",
      "r2 -0.07757351653809685\n"
     ]
    }
   ],
   "source": [
    "# Linear Regression\n",
    "model_1 = LinearRegression().fit(X, y)\n",
    "model_1.score(X, y)\n",
    "\n",
    "y_val_hat = model_1.predict(X_val)\n",
    "\n",
    "print ('MSE', mean_squared_error(y_val, y_val_hat))\n",
    "print('r2', r2_score(y_val, y_val_hat))"
   ]
  },
  {
   "cell_type": "code",
   "execution_count": 7,
   "id": "4a2fe22f",
   "metadata": {},
   "outputs": [
    {
     "data": {
      "image/png": "[encoded data removed]",
      "text/plain": [
       "<Figure size 1152x576 with 2 Axes>"
      ]
     },
     "metadata": {
      "needs_background": "light"
     },
     "output_type": "display_data"
    }
   ],
   "source": [
    "y_truth = y_val.array.reshape(3,12)\n",
    "y_hat   = y_val_hat.reshape(3,12)\n",
    "result_visualization(y_truth, y_hat, 'Linear Regression')"
   ]
  },
  {
   "cell_type": "code",
   "execution_count": 8,
   "id": "8df180ed",
   "metadata": {},
   "outputs": [
    {
     "name": "stdout",
     "output_type": "stream",
     "text": [
      "MSE 0.0039057187992715056\n",
      "r2 0.16271322237649644\n"
     ]
    }
   ],
   "source": [
    "# Random Forests\n",
    "model_2 = RandomForestRegressor(n_estimators = 10000, max_depth=100, random_state = 42).fit(X,y)\n",
    "\n",
    "y_val_hat = model_2.predict(X_val)\n",
    "\n",
    "print ('MSE', mean_squared_error(y_val, y_val_hat))\n",
    "print('r2', r2_score(y_val, y_val_hat))"
   ]
  },
  {
   "cell_type": "code",
   "execution_count": 9,
   "id": "98fc7113",
   "metadata": {},
   "outputs": [
    {
     "data": {
      "image/png": "[encoded data removed]",
      "text/plain": [
       "<Figure size 1152x576 with 2 Axes>"
      ]
     },
     "metadata": {
      "needs_background": "light"
     },
     "output_type": "display_data"
    }
   ],
   "source": [
    "y_truth = y_val.array.reshape(3,12)\n",
    "y_hat   = y_val_hat.reshape(3,12)\n",
    "result_visualization(y_truth, y_hat, 'Random Forests')"
   ]
  },
  {
   "cell_type": "code",
   "execution_count": 10,
   "id": "c351ea1e",
   "metadata": {},
   "outputs": [
    {
     "name": "stdout",
     "output_type": "stream",
     "text": [
      "MSE 0.007376569985539594\n",
      "r2 -0.581348998872808\n"
     ]
    }
   ],
   "source": [
    "#SVM support vector machine\n",
    "from sklearn.svm import SVR\n",
    "#model_3 = SVR(kernel = 'rbf').fit(X,y)\n",
    "model_3 = SVR(kernel=\"poly\").fit(X,y)\n",
    "y_val_hat = model_3.predict(X_val)\n",
    "\n",
    "print ('MSE', mean_squared_error(y_val, y_val_hat))\n",
    "print('r2', r2_score(y_val, y_val_hat))"
   ]
  },
  {
   "cell_type": "code",
   "execution_count": 11,
   "id": "652c77ed",
   "metadata": {
    "scrolled": true
   },
   "outputs": [
    {
     "data": {
      "image/png": "[encoded data removed]",
      "text/plain": [
       "<Figure size 1152x576 with 2 Axes>"
      ]
     },
     "metadata": {
      "needs_background": "light"
     },
     "output_type": "display_data"
    }
   ],
   "source": [
    "y_truth = y_val.array.reshape(3,12)\n",
    "y_hat   = y_val_hat.reshape(3,12)\n",
    "result_visualization(y_truth, y_hat, 'SVR')"
   ]
  },
  {
   "cell_type": "code",
   "execution_count": 12,
   "id": "b5480627",
   "metadata": {},
   "outputs": [
    {
     "name": "stdout",
     "output_type": "stream",
     "text": [
      "MSE 0.0033473013968248005\n",
      "r2 0.2824237114036884\n"
     ]
    }
   ],
   "source": [
    "# xgboost\n",
    "from xgboost import XGBRegressor\n",
    "\n",
    "model_4 = XGBRegressor().fit(X,y)\n",
    "y_val_hat = model_4.predict(X_val)\n",
    "\n",
    "print ('MSE', mean_squared_error(y_val, y_val_hat))\n",
    "print('r2', r2_score(y_val, y_val_hat))"
   ]
  },
  {
   "cell_type": "code",
   "execution_count": 13,
   "id": "938b9f8e",
   "metadata": {},
   "outputs": [
    {
     "data": {
      "image/png": "[encoded data removed]",
      "text/plain": [
       "<Figure size 1152x576 with 2 Axes>"
      ]
     },
     "metadata": {
      "needs_background": "light"
     },
     "output_type": "display_data"
    }
   ],
   "source": [
    "y_truth = y_val.array.reshape(3,12)\n",
    "y_hat   = y_val_hat.reshape(3,12)\n",
    "result_visualization(y_truth, y_hat, 'XGBOOST')"
   ]
  },
  {
   "cell_type": "code",
   "execution_count": null,
   "id": "1e7ca7ec",
   "metadata": {},
   "outputs": [],
   "source": []
  }
 ],
 "metadata": {
  "kernelspec": {
   "display_name": "retail",
   "language": "python",
   "name": "retail"
  },
  "language_info": {
   "codemirror_mode": {
    "name": "ipython",
    "version": 3
   },
   "file_extension": ".py",
   "mimetype": "text/x-python",
   "name": "python",
   "nbconvert_exporter": "python",
   "pygments_lexer": "ipython3",
   "version": "3.8.10"
  }
 },
 "nbformat": 4,
 "nbformat_minor": 5
}
