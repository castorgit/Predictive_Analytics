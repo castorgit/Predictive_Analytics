{
 "cells": [
  {
   "cell_type": "markdown",
   "id": "f324424d",
   "metadata": {},
   "source": [
    "### Migration data preparation\n",
    "\n",
    "**Description:** Visualization and preparation of Migration data dataset<br>\n",
    "**Datasets:** https://stats.oecd.org/Index.aspx?DataSetCode=MIg<br>\n",
    "                    https://UN.org <br>\n",
    "**Author:** Jaume Manero<br>\n"
   ]
  },
  {
   "cell_type": "code",
   "execution_count": 1,
   "id": "15e0a50e",
   "metadata": {},
   "outputs": [],
   "source": [
    "import pandas as pd\n"
   ]
  },
  {
   "cell_type": "code",
   "execution_count": 5,
   "id": "3c3adfd7",
   "metadata": {},
   "outputs": [
    {
     "name": "stderr",
     "output_type": "stream",
     "text": [
      "/home/manero/DL/lib/python3.8/site-packages/IPython/core/interactiveshell.py:3444: DtypeWarning: Columns (6) have mixed types.Specify dtype option on import or set low_memory=False.\n",
      "  exec(code_obj, self.user_global_ns, self.user_ns)\n"
     ]
    },
    {
     "data": {
      "text/plain": [
       "Index(['CO2', 'VAR', 'GEN', 'COU', 'YEA', 'Value', 'Flag Codes'], dtype='object')"
      ]
     },
     "execution_count": 5,
     "metadata": {},
     "output_type": "execute_result"
    }
   ],
   "source": [
    "df_world = pd.read_csv('./data/MIG-en.csv')\n",
    "df_world.columns"
   ]
  },
  {
   "cell_type": "code",
   "execution_count": null,
   "id": "05228f32",
   "metadata": {},
   "outputs": [],
   "source": [
    "# Metadata information : https://www.oecd.org/sdd/33869551.pdf\n",
    "#\n",
    "# CO2 : Country of Origin\n",
    "# VAR : \n",
    "#   [B11] Inflows of foreign population by nationality\n",
    "#   [B12] Outflows of foreign population by nationality\n",
    "#   [B13] Inflows of asylum seekers by nationality\n",
    "#   [B14] Stock of foreign-born population by country of birth\n",
    "#   [B15] Stock of foreign population by nationality\n",
    "#   [B16] Acquisition of nationality by country of former nationality\n",
    "#   [B21] Inflows of foreign workers by nationality\n",
    "#   [B22] Inflows of seasonal foreign workers by nationality\n",
    "#\n",
    "# GEN : <needs some homogeneization>\n",
    "#    TOT : Total\n",
    "#    WMN : Women\n",
    "#    WOMEN : Women\n",
    "#    TOTAL : Total\n",
    "# Flag Codes: <ignore>\n",
    "#   b : break\n",
    "#   e : estimate"
   ]
  },
  {
   "cell_type": "code",
   "execution_count": 19,
   "id": "71988fc3",
   "metadata": {},
   "outputs": [
    {
     "data": {
      "text/plain": [
       "2011    51605\n",
       "2010    50478\n",
       "2009    48102\n",
       "2008    46585\n",
       "2012    46563\n",
       "2007    43893\n",
       "2006    43354\n",
       "2013    40006\n",
       "2005    38800\n",
       "2004    37170\n",
       "2003    35978\n",
       "2002    35744\n",
       "2001    33602\n",
       "2000    32704\n",
       "1999    25804\n",
       "1998    22161\n",
       "1997    16012\n",
       "1996    11843\n",
       "1995     6873\n",
       "1994     3040\n",
       "1993     2667\n",
       "1992     2299\n",
       "1991     2152\n",
       "1990     1637\n",
       "1989     1317\n",
       "1988     1212\n",
       "1986     1017\n",
       "1987      961\n",
       "1985      824\n",
       "1984      562\n",
       "1982      289\n",
       "1981      262\n",
       "1983      246\n",
       "1980      182\n",
       "1975       30\n",
       "1976        1\n",
       "1977        1\n",
       "1978        1\n",
       "1979        1\n",
       "Name: YEA, dtype: int64"
      ]
     },
     "execution_count": 19,
     "metadata": {},
     "output_type": "execute_result"
    }
   ],
   "source": [
    "df_world['YEA'].value_counts()"
   ]
  },
  {
   "cell_type": "code",
   "execution_count": 18,
   "id": "04327762",
   "metadata": {},
   "outputs": [
    {
     "data": {
      "text/plain": [
       "b    630\n",
       "e    421\n",
       "Name: Flag Codes, dtype: int64"
      ]
     },
     "execution_count": 18,
     "metadata": {},
     "output_type": "execute_result"
    }
   ],
   "source": [
    "df_world['Flag Codes'].value_counts()"
   ]
  },
  {
   "cell_type": "code",
   "execution_count": 17,
   "id": "96f6476b",
   "metadata": {},
   "outputs": [
    {
     "data": {
      "text/plain": [
       "TOT      439808\n",
       "WMN      244742\n",
       "TOTAL      1414\n",
       "WOMEN        14\n",
       "Name: GEN, dtype: int64"
      ]
     },
     "execution_count": 17,
     "metadata": {},
     "output_type": "execute_result"
    }
   ],
   "source": [
    "df_world['GEN'].value_counts()"
   ]
  },
  {
   "cell_type": "code",
   "execution_count": null,
   "id": "30494010",
   "metadata": {},
   "outputs": [],
   "source": []
  }
 ],
 "metadata": {
  "kernelspec": {
   "display_name": "DL",
   "language": "python",
   "name": "dl"
  },
  "language_info": {
   "codemirror_mode": {
    "name": "ipython",
    "version": 3
   },
   "file_extension": ".py",
   "mimetype": "text/x-python",
   "name": "python",
   "nbconvert_exporter": "python",
   "pygments_lexer": "ipython3",
   "version": "3.8.12"
  }
 },
 "nbformat": 4,
 "nbformat_minor": 5
}
